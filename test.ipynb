{
 "cells": [
  {
   "cell_type": "code",
   "execution_count": null,
   "metadata": {},
   "outputs": [
    {
     "name": "stderr",
     "output_type": "stream",
     "text": [
      "/bigpool/users/st166545/TransitionAnalysisProject/.venv/lib/python3.12/site-packages/tqdm/auto.py:21: TqdmWarning: IProgress not found. Please update jupyter and ipywidgets. See https://ipywidgets.readthedocs.io/en/stable/user_install.html\n",
      "  from .autonotebook import tqdm as notebook_tqdm\n",
      "/bigpool/users/st166545/TransitionAnalysisProject/.venv/lib/python3.12/site-packages/MDAnalysis/coordinates/XDR.py:202: UserWarning: Cannot write lock/offset file in same location as /bigpool/users/ac130484/project/finished_sim/hex/hex_dod_pol/sim_1/traj.xtc. Using slow offset calculation.\n",
      "  warnings.warn(f\"Cannot write lock/offset file in same location as \"\n"
     ]
    },
    {
     "name": "stdout",
     "output_type": "stream",
     "text": [
      "Path: /bigpool/users/ac130484/project/finished_sim/hex/hex_dod_pol/sim_1/\n",
      "\n",
      "Results will be saved in: /bigpool/users/ac130484/project/finished_sim/hex/hex_dod_pol/sim_1/analysis/.\n"
     ]
    },
    {
     "name": "stderr",
     "output_type": "stream",
     "text": [
      "/bigpool/users/st166545/TransitionAnalysisProject/.venv/lib/python3.12/site-packages/MDAnalysis/coordinates/XDR.py:258: UserWarning: Couldn't save offsets because: [Errno 13] Permission denied: '/bigpool/users/ac130484/project/finished_sim/hex/hex_dod_pol/sim_1/.traj.xtc_offsets.npz'\n",
      "  warnings.warn(f\"Couldn't save offsets because: {e}\")\n"
     ]
    },
    {
     "name": "stdout",
     "output_type": "stream",
     "text": [
      "DiffusionAnalysis object:\n",
      "  topology_file: /bigpool/users/ac130484/project/finished_sim/hex/hex_dod_pol/sim_1/topol.tpr\n",
      "  trajectory_file: /bigpool/users/ac130484/project/finished_sim/hex/hex_dod_pol/sim_1/traj.xtc\n",
      "  results_dir: /bigpool/users/ac130484/project/finished_sim/hex/hex_dod_pol/sim_1/analysis/\n",
      "  Membrane: HexagonalMembrane: L=180; selector=resname C; lowerZ=None\n",
      "  verbose: True\n",
      "  trajectories: dict_keys([])\n",
      "  results: \n",
      "      D: {}\n",
      "      passageTimes: {}\n",
      "      passageStarts: {}\n",
      "      passageIndices: {}\n",
      "      n_passages: {}\n",
      "  Simulation footprints: \n",
      "      u_trajectory_dt (ps): 500.0\n",
      "      u_sim_time (ps): 5000000.0\n",
      "      analysis_max_step_size_ps (ps): 200\n",
      "      actual analysed step_size (ps): 500.0\n",
      "      nth_frame: 1\n",
      "      n_frames analysed: 10001\n",
      "      ana_sim_time (ps): 5000000.0\n",
      "      u: <Universe with 36930 atoms>\n",
      "      unique atom names: {'C1', 'R2', 'C2', 'R3', 'C', 'R1'}\n",
      "      unique tyep: {'HEX', 'DOD', 'C'}\n",
      "      unique combinations: {('C', 'C'), ('DOD', 'R2'), ('DOD', 'R1'), ('DOD', 'R3'), ('HEX', 'C1'), ('HEX', 'C2')}\n",
      "\n"
     ]
    }
   ],
   "source": [
    "import json\n",
    "\n",
    "import matplotlib.pyplot as plt\n",
    "from MembraneAnalysisToolbox.DiffusionAnalysis import DiffusionAnalysis\n",
    "from MembraneAnalysisToolbox.MembraneStructures import CubicMembrane, HexagonalMembrane\n",
    "\n",
    "path = \"/bigpool/users/ac130484/project/finished_sim/hex/hex_dod_pol/sim_1/\"\n",
    "print(\"Path: \" + path + \"\\n\")\n",
    "\n",
    "\n",
    "hexagonal_structure = HexagonalMembrane(\n",
    "    selectors=\"resname C\",\n",
    "    L=180,\n",
    ")\n",
    "\n",
    "\n",
    "# STEP 1: initialise the Data into the class\n",
    "DA = DiffusionAnalysis(\n",
    "    topology_file=path + \"topol.tpr\",\n",
    "    trajectory_file=path + \"traj.xtc\",\n",
    "    results_dir=path + \"analysis/\",\n",
    "    analysis_max_step_size_ps=200,\n",
    "    verbose=True,\n",
    "    membrane=hexagonal_structure,\n",
    ")\n",
    "\n",
    "print(DA)"
   ]
  },
  {
   "cell_type": "code",
   "execution_count": null,
   "metadata": {},
   "outputs": [
    {
     "name": "stdout",
     "output_type": "stream",
     "text": [
      "Allocating trajectories for selectors: \"resname DOD and name R2\".\n",
      "\tProgress: 100%\n",
      "Trajectories allocated.\n"
     ]
    }
   ],
   "source": [
    "DA._allocateTrajectories(\"resname DOD and name R2\")"
   ]
  },
  {
   "cell_type": "code",
   "execution_count": 31,
   "metadata": {},
   "outputs": [
    {
     "data": {
      "image/png": "[encoded data removed]",
      "text/plain": [
       "<Figure size 640x480 with 1 Axes>"
      ]
     },
     "metadata": {},
     "output_type": "display_data"
    }
   ],
   "source": [
    "z_trajs = DA.trajectories[\"resname DOD and name R2\"][:,:,2].flatten()\n",
    "plt.hist(z_trajs, density=True, bins=100)\n",
    "# plt.plot(DA.timeline,z_trajs[2:4])\n",
    "plt.show()"
   ]
  }
 ],
 "metadata": {
  "kernelspec": {
   "display_name": ".venv",
   "language": "python",
   "name": "python3"
  },
  "language_info": {
   "codemirror_mode": {
    "name": "ipython",
    "version": 3
   },
   "file_extension": ".py",
   "mimetype": "text/x-python",
   "name": "python",
   "nbconvert_exporter": "python",
   "pygments_lexer": "ipython3",
   "version": "3.12.3"
  }
 },
 "nbformat": 4,
 "nbformat_minor": 2
}
